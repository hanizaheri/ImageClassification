{
  "nbformat": 4,
  "nbformat_minor": 0,
  "metadata": {
    "colab": {
      "name": "CI_9831090_1project.ipynb",
      "provenance": [],
      "collapsed_sections": []
    },
    "kernelspec": {
      "name": "python3",
      "display_name": "Python 3"
    },
    "language_info": {
      "name": "python"
    }
  },
  "cells": [
    {
      "cell_type": "markdown",
      "source": [
        "**قدم اول**"
      ],
      "metadata": {
        "id": "nbT51ieT5FB9"
      }
    },
    {
      "cell_type": "markdown",
      "source": [
        "ابتدا دیتاست مربوطه را با دستور گفته شده دانلود میکنیم"
      ],
      "metadata": {
        "id": "0MfHhFRB4xzp"
      }
    },
    {
      "cell_type": "code",
      "execution_count": 135,
      "metadata": {
        "colab": {
          "base_uri": "https://localhost:8080/"
        },
        "id": "RxvMqGorNs88",
        "outputId": "de783fe4-9d16-452f-9838-bf23a362a826"
      },
      "outputs": [
        {
          "output_type": "stream",
          "name": "stdout",
          "text": [
            "/usr/local/lib/python3.7/dist-packages/gdown/cli.py:131: FutureWarning: Option `--id` was deprecated in version 4.3.1 and will be removed in 5.0. You don't need to pass it anymore to use a file ID.\n",
            "  category=FutureWarning,\n",
            "Downloading...\n",
            "From: https://drive.google.com/uc?id=1Y1vgzPvMeVcXSxDfOlCVia7wsU7p8M6g\n",
            "To: /content/CIFAR10.tar.gz\n",
            "100% 19.8M/19.8M [00:00<00:00, 106MB/s] \n"
          ]
        }
      ],
      "source": [
        "!gdown --id 1Y1vgzPvMeVcXSxDfOlCVia7wsU7p8M6g -O CIFAR10.tar.gz\n",
        "!tar xzf CIFAR10.tar.gz"
      ]
    },
    {
      "cell_type": "markdown",
      "source": [
        "کتاب خانه های مربوطه را اضافه کردیم"
      ],
      "metadata": {
        "id": "U0UEV9cqJsxs"
      }
    },
    {
      "cell_type": "code",
      "source": [
        "import numpy as np\n",
        "import tensorflow\n",
        "import os\n",
        "from six.moves import cPickle \n",
        "%matplotlib inline \n",
        "import pickle\n",
        "import matplotlib.image as mpimg\n",
        "import math\n",
        "from matplotlib import pyplot as plt\n",
        "import random\n",
        "import pickle\n",
        "from statistics import mean\n",
        "import matplotlib.image as plotimg\n",
        "from datetime import datetime"
      ],
      "metadata": {
        "id": "_Z4o0wTF4mfN"
      },
      "execution_count": 136,
      "outputs": []
    },
    {
      "cell_type": "markdown",
      "source": [
        "برای آشنایی بیشنر با دیتاست، از هر کلاس، اولین نمونه را نمایش دادیم. 5 تا از آن ها مربوط به فولدر تست و 5 تا از آن ها مربوط به فولدر ترین است"
      ],
      "metadata": {
        "id": "JK76PIKzJxED"
      }
    },
    {
      "cell_type": "code",
      "source": [
        "## directory of 10 pictures\n",
        "picTest0 = \"/content/CIFAR10/test/airplane/0000.jpg\"\n",
        "picTest1 = \"/content/CIFAR10/test/automobile/0000.jpg\"\n",
        "picTest2 = \"/content/CIFAR10/test/bird/0000.jpg\"\n",
        "picTest3 = \"/content/CIFAR10/test/cat/0000.jpg\"\n",
        "picTest4 = \"/content/CIFAR10/test/deer/0000.jpg\"\n",
        "\n",
        "picTrain0 = \"/content/CIFAR10/train/dog/0000.jpg\"\n",
        "picTrain1 = \"/content/CIFAR10/train/frog/0000.jpg\"\n",
        "picTrain2 = \"/content/CIFAR10/train/horse/0000.jpg\"\n",
        "picTrain3 = \"/content/CIFAR10/train/ship/0000.jpg\"\n",
        "picTrain4 = \"/content/CIFAR10/train/truck/0000.jpg\"\n",
        "\n",
        "imageFile0 = os.path.join(picTest0)\n",
        "imageFile1 = os.path.join(picTest1)\n",
        "imageFile2 = os.path.join(picTest2)\n",
        "imageFile3 = os.path.join(picTest3)\n",
        "imageFile4 = os.path.join(picTest4)\n",
        "imageFile5 = os.path.join(picTrain0)\n",
        "imageFile6 = os.path.join(picTrain1)\n",
        "imageFile7 = os.path.join(picTrain2)\n",
        "imageFile8 = os.path.join(picTrain3)\n",
        "imageFile9 = os.path.join(picTrain4)\n",
        "\n",
        "## read the images\n",
        "plt.subplot(2, 5, 2)\n",
        "img0 = plotimg.imread(imageFile0)\n",
        "imgplot = plt.imshow(img0)\n",
        "plt.title('airplane')\n",
        "plt.show()\n",
        "\n",
        "plt.subplot(2, 5, 2)\n",
        "img1 = plotimg.imread(imageFile1)\n",
        "imgplot = plt.imshow(img1)\n",
        "plt.title('automobile')\n",
        "plt.show()\n",
        "\n",
        "plt.subplot(2, 5, 2)\n",
        "img2 = plotimg.imread(imageFile2)\n",
        "imgplot = plt.imshow(img2)\n",
        "plt.title('bird')\n",
        "plt.show()\n",
        "\n",
        "plt.subplot(2, 5, 2)\n",
        "img3 = plotimg.imread(imageFile3)\n",
        "imgplot = plt.imshow(img3)\n",
        "plt.title('cat')\n",
        "plt.show()\n",
        "\n",
        "plt.subplot(2, 5, 2)\n",
        "img4 = plotimg.imread(imageFile4)\n",
        "imgplot = plt.imshow(img4)\n",
        "plt.title('deer')\n",
        "plt.show()\n",
        "\n",
        "plt.subplot(2, 5, 2)\n",
        "img5 = plotimg.imread(imageFile5)\n",
        "imgplot = plt.imshow(img5)\n",
        "plt.title('dog')\n",
        "plt.show()\n",
        "\n",
        "plt.subplot(2, 5, 2)\n",
        "img6 = plotimg.imread(imageFile6)\n",
        "imgplot = plt.imshow(img6)\n",
        "plt.title('frog')\n",
        "plt.show()\n",
        "\n",
        "plt.subplot(2, 5, 2)\n",
        "img7 = plotimg.imread(imageFile7)\n",
        "imgplot = plt.imshow(img7)\n",
        "plt.title('horse')\n",
        "plt.show()\n",
        "\n",
        "plt.subplot(2, 5, 2)\n",
        "img8 = plotimg.imread(imageFile8)\n",
        "imgplot = plt.imshow(img8)\n",
        "plt.title('ship')\n",
        "plt.show()\n",
        "\n",
        "plt.subplot(2, 5, 2)\n",
        "img9 = plotimg.imread(imageFile9)\n",
        "imgplot = plt.imshow(img9)\n",
        "plt.title('truck')\n",
        "plt.show()\n"
      ],
      "metadata": {
        "colab": {
          "base_uri": "https://localhost:8080/",
          "height": 1000
        },
        "id": "AcLJILOQAtUZ",
        "outputId": "70e4f649-2f34-4978-d210-ffed5ec11676"
      },
      "execution_count": 137,
      "outputs": [
        {
          "output_type": "display_data",
          "data": {
            "text/plain": [
              "<Figure size 432x288 with 1 Axes>"
            ],
            "image/png": "[encoded data removed]"
          },
          "metadata": {
            "needs_background": "light"
          }
        },
        {
          "output_type": "display_data",
          "data": {
            "text/plain": [
              "<Figure size 432x288 with 1 Axes>"
            ],
            "image/png": "[encoded data removed]"
          },
          "metadata": {
            "needs_background": "light"
          }
        },
        {
          "output_type": "display_data",
          "data": {
            "text/plain": [
              "<Figure size 432x288 with 1 Axes>"
            ],
            "image/png": "[encoded data removed]"
          },
          "metadata": {
            "needs_background": "light"
          }
        },
        {
          "output_type": "display_data",
          "data": {
            "text/plain": [
              "<Figure size 432x288 with 1 Axes>"
            ],
            "image/png": "[encoded data removed]"
          },
          "metadata": {
            "needs_background": "light"
          }
        },
        {
          "output_type": "display_data",
          "data": {
            "text/plain": [
              "<Figure size 432x288 with 1 Axes>"
            ],
            "image/png": "[encoded data removed]"
          },
          "metadata": {
            "needs_background": "light"
          }
        },
        {
          "output_type": "display_data",
          "data": {
            "text/plain": [
              "<Figure size 432x288 with 1 Axes>"
            ],
            "image/png": "[encoded data removed]"
          },
          "metadata": {
            "needs_background": "light"
          }
        },
        {
          "output_type": "display_data",
          "data": {
            "text/plain": [
              "<Figure size 432x288 with 1 Axes>"
            ],
            "image/png": "[encoded data removed]"
          },
          "metadata": {
            "needs_background": "light"
          }
        },
        {
          "output_type": "display_data",
          "data": {
            "text/plain": [
              "<Figure size 432x288 with 1 Axes>"
            ],
            "image/png": "[encoded data removed]"
          },
          "metadata": {
            "needs_background": "light"
          }
        },
        {
          "output_type": "display_data",
          "data": {
            "text/plain": [
              "<Figure size 432x288 with 1 Axes>"
            ],
            "image/png": "[encoded data removed]"
          },
          "metadata": {
            "needs_background": "light"
          }
        },
        {
          "output_type": "display_data",
          "data": {
            "text/plain": [
              "<Figure size 432x288 with 1 Axes>"
            ],
            "image/png": "[encoded data removed]"
          },
          "metadata": {
            "needs_background": "light"
          }
        }
      ]
    },
    {
      "cell_type": "markdown",
      "source": [
        "در این بخش ابتدا 4 آرایه ای که در انتها باید نمایش دهیم را ساختیم پس از آن آدرس 4 کلاس اول خواسته شده از تست و ترین را نمایش دادیم سپس در 8 مرحله(4 مرحله برای چهار کلاس ترین و چهار مرحله برای چهار کلاس تست) عکس های مربوط به هر دسته بندی را ابتدا خواندیم و بعد عکس ها را در آرایه ها قرار دادیم به طوری که عکس های مربوط به فولدر ترین در آرایه داده های ترین و عکس های مربوط به فولدر تست را در آرایه داده های ترین قرار دادیم به همین ترتیب لیبل ها را نیز ذخیره کردیم تنها نکته مربوط به لیبل ها این است که بسته به آن که لیبل در کدام کلاس قرار دارد، مقدار متفاوتی در آرایه برای آن ذخیره میشود؛ یعنی برای کلاس هواپیما تنها اولین خانه آرایه 1 و بقیه صفر، برای کلاس اتومبیل، تنها دومین خانه یک و همین طور برای بقیه کلاس ها هم به همین ترتیب است. در نهایت آرایه ها را نمایش دادیم. که برای داده های ترین چهار مولفه دارد. اولیش  20000 بوده که حاصل ضرب 5000 در 4 است که 5000 مربوط به تعداد عکس ها و 4 مربوط به تعداد کلاس های مورد استفاده ما در مسئله است. دومی و سومی 32 است که ابعاد را مشخص میکند و مولفه آخر به سبب سه کاناله بودن است. به همین  ترتیب برای داده های تست، 4 مولفه با مقادیر 4000 که حاصل ضرب 1000 در 4 و 32 و 32و 3 است داریم. در نهایت برای لیبل ها دو مولفه داریم که اولین مولفه حاصل ضرب 4 در تعداد عکس هاست و مولفه دوم 4 است     "
      ],
      "metadata": {
        "id": "ka6R7quwyyq-"
      }
    },
    {
      "cell_type": "code",
      "source": [
        "## array for save datas and labels\n",
        "testData = [] \n",
        "trainData = []\n",
        "testLabel = []\n",
        "trainLabel = []\n",
        "\n",
        "## directory of the classes \"airplane\", \"automobile\", \"bird\", \"cat\"\n",
        "train0 = '/content/CIFAR10/train/airplane'\n",
        "train1 = '/content/CIFAR10/train/automobile'\n",
        "train2 = '/content/CIFAR10/train/bird'\n",
        "train3 = '/content/CIFAR10/train/cat'\n",
        "\n",
        "test0 = '/content/CIFAR10/test/airplane'\n",
        "test1 = '/content/CIFAR10/test/automobile'\n",
        "test2 = '/content/CIFAR10/test/bird'\n",
        "test3 = '/content/CIFAR10/test/cat'\n",
        "\n",
        "## append images and their labels in the appropriate arrays\n",
        "for image in os.listdir(train0):\n",
        "  img = mpimg.imread(os.path.join(train0, image))\n",
        "  images = np.asarray(img)\n",
        "  trainData.append(images)\n",
        "  trainLabel.append([1, 0, 0, 0])\n",
        "\n",
        "for image in os.listdir(train1):\n",
        "  img = mpimg.imread(os.path.join(train1, image))\n",
        "  images = np.asarray(img)\n",
        "  trainData.append(images)\n",
        "  trainLabel.append([0, 1, 0, 0])\n",
        "\n",
        "for image in os.listdir(train2):\n",
        "  img = mpimg.imread(os.path.join(train2, image))\n",
        "  images = np.asarray(img)\n",
        "  trainData.append(images)\n",
        "  trainLabel.append([0, 0, 1, 0])\n",
        "\n",
        "for image in os.listdir(train3):\n",
        "  img = mpimg.imread(os.path.join(train3, image))\n",
        "  images = np.asarray(img)\n",
        "  trainData.append(images)\n",
        "  trainLabel.append([0, 0, 0, 1])\n",
        "\n",
        "for image in os.listdir(test0):\n",
        "  img = mpimg.imread(os.path.join(test0, image))\n",
        "  images = np.asarray(img)\n",
        "  testData.append(images)\n",
        "  testLabel.append([1, 0, 0, 0])\n",
        "\n",
        "for image in os.listdir(test1):\n",
        "  img = mpimg.imread(os.path.join(test1, image))\n",
        "  images = np.asarray(img)\n",
        "  testData.append(images)\n",
        "  testLabel.append([0, 1, 0, 0])\n",
        "\n",
        "for image in os.listdir(test2):\n",
        "  img = mpimg.imread(os.path.join(test2, image))\n",
        "  images = np.asarray(img)\n",
        "  testData.append(images)\n",
        "  testLabel.append([0, 0, 1, 0])\n",
        "\n",
        "for image in os.listdir(test3):\n",
        "  img = mpimg.imread(os.path.join(test3, image))\n",
        "  images = np.asarray(img)\n",
        "  testData.append(images)\n",
        "  testLabel.append([0, 0, 0, 1])\n",
        "\n",
        "trainData = np.array(trainData)\n",
        "trainLabel = np.array(trainLabel)\n",
        "testData = np.array(testData)\n",
        "testLabel = np.array(testLabel)\n",
        "print(\"for train: \")   \n",
        "print(trainData.shape)   \n",
        "print(trainLabel.shape) \n",
        "print(\"for test: \")\n",
        "print(testData.shape)   \n",
        "print(testLabel.shape)"
      ],
      "metadata": {
        "colab": {
          "base_uri": "https://localhost:8080/"
        },
        "id": "q3IInk5JDmF8",
        "outputId": "1e92f6d6-bece-4757-9a57-3256d46716cb"
      },
      "execution_count": 138,
      "outputs": [
        {
          "output_type": "stream",
          "name": "stdout",
          "text": [
            "for train: \n",
            "(20000, 32, 32, 3)\n",
            "(20000, 4)\n",
            "for test: \n",
            "(4000, 32, 32, 3)\n",
            "(4000, 4)\n"
          ]
        }
      ]
    },
    {
      "cell_type": "markdown",
      "source": [
        "در این بخش کد گفته شده در دستور کار را برای تبدیل عکس سه کاناله به عکس خاکستری استفاده کرده و در نهایت از این تابع استفاده کردیم و دوباره آرایه های داده های ترین و تست را پرینت کردیم. همین طور که در خروجی نیز دیده میشود، آخرین مولفه یعنی سه که در خروجی قسمت پیش بود، در این قسمت به دلیل خاکستری بودن از بین رفت"
      ],
      "metadata": {
        "id": "-B90dWsK7iQz"
      }
    },
    {
      "cell_type": "code",
      "source": [
        "## convert to gray scale\n",
        "def rgb2gray(rgb):\n",
        " r, g, b = rgb[:, :, :, 0], rgb[:, :, :,1], rgb[:, :, :, 2]\n",
        " gray = 0.2989 * r + 0.5870 * g + 0.1140 * b\n",
        " return gray\n",
        "\n",
        "trainGray = rgb2gray(trainData)\n",
        "testGray = rgb2gray(testData)\n",
        "print(trainGray.shape, testGray.shape)"
      ],
      "metadata": {
        "colab": {
          "base_uri": "https://localhost:8080/"
        },
        "id": "sN12dHzV5v-1",
        "outputId": "32c41c08-01b4-40eb-d48c-13701834eed0"
      },
      "execution_count": 139,
      "outputs": [
        {
          "output_type": "stream",
          "name": "stdout",
          "text": [
            "(20000, 32, 32) (4000, 32, 32)\n"
          ]
        }
      ]
    },
    {
      "cell_type": "markdown",
      "source": [
        "در این بخش، برای آن که داده را نرمال کنیم، مقدار آن را تقسیم بر 255 کردیم تا بین صفر و یک قرار بگیرند"
      ],
      "metadata": {
        "id": "IgR1U92r-qyF"
      }
    },
    {
      "cell_type": "code",
      "source": [
        "## normalize\n",
        "testData = (testGray/255)\n",
        "trainData =(trainGray/255)"
      ],
      "metadata": {
        "id": "wnHgoon08aWC"
      },
      "execution_count": 140,
      "outputs": []
    },
    {
      "cell_type": "code",
      "source": [
        "## flat\n",
        "testData = testData.reshape(-1,1024)\n",
        "trainData = trainData.reshape(-1,1024)"
      ],
      "metadata": {
        "id": "60o5R55u-0iR"
      },
      "execution_count": 141,
      "outputs": []
    },
    {
      "cell_type": "markdown",
      "source": [
        "این تابع، دو ورودی گرفته که در این جا داده ها به همراه لیبل هایشان هستند؛، آن ها را توسط تابع پرمیوتیشن، شافل میکنیم و سپس آرایه های شافل شده را برمیگردانیم. بنابراین با این تابع، داده های تست و لیبل هایش و داده های ترین و لیبل هایش، شافل میشوند  "
      ],
      "metadata": {
        "id": "nYosdv1ePuuU"
      }
    },
    {
      "cell_type": "code",
      "source": [
        "## shuffled\n",
        "def shuffle(arrA, arrB):\n",
        "  permute = np.random.permutation(len(arrA))\n",
        "  return arrA[permute], arrB[permute]\n",
        "\n",
        "testData, testLabel = shuffle(testData, testLabel)\n",
        "trainData, trainLabel = shuffle(trainData, trainLabel)\n",
        "\n",
        "print(testData.shape, trainData.shape)"
      ],
      "metadata": {
        "colab": {
          "base_uri": "https://localhost:8080/"
        },
        "id": "Ev563ZOTAIoD",
        "outputId": "b6255abb-ee80-4eb4-d65f-0d0d6b764523"
      },
      "execution_count": 142,
      "outputs": [
        {
          "output_type": "stream",
          "name": "stdout",
          "text": [
            "(4000, 1024) (20000, 1024)\n"
          ]
        }
      ]
    },
    {
      "cell_type": "markdown",
      "source": [
        "**قدم دوم**"
      ],
      "metadata": {
        "id": "DEtzcVq0IPAI"
      }
    },
    {
      "cell_type": "markdown",
      "source": [
        "در این بخش ابتدا تابع سیگوئید را تعریف کردیم که در ادامه قرار است از آن استفاده کنیم. سپس مقادیر وزن ها را طبق گفته مسئله مقدار تصادفی و مقادیر بایاس را هم صفر کردیم. مقادیر وزن یک ماتریس دو بعدی است که بعد اول آن تعداد نورون های لایه بعد و بعد دوم آن تعداد نورون های لایه فعلی است و مقادیر بایاس نیز یک بردار است که تعداد آن، برابر تعداد نورون های لایه بعدی است. همان طور که میدانیم تعداد نورون های ورودی 1024، تعداد نورون های پنهانی 16 که دو لایه پنهانی داریم و تعداد نورون های خروجی نیز 4 تا است. در ابتدا تابعی را تعریف کردیم که به کمک این تابع میتوان اندیس بزرگ ترین مقدار موجود در آرایه را به دست آورد. در تابع فیدفوروارد، یک شمارنده وجود دارد که تعداد حدس های درست را میشمارد و در نهایت با تقسیم بر کل داده های موجود که در این جا 200 است، درصد درستی پیش بینی را تخمین میزند که در این مثال ،چون وزن های اولیه تصادفی انتخاب شده اند، درصد درستی در حدود 25 است. اتفاقی که در تابع فیدفوروارد می افتد این است که به اندازه دیتاست که در این مثال 200 است، ابتدا آرایه داده ترین را یک بعدی کرده با عملیات ری شیپ و بعد از آن عملیات فیدفورواردینگ انجام می شود یعنی مقدار داده ها را در وزنشان ضرب کرده و با مقدار بایاس جمع میکند و از خروجی به دست آمده در ورودی لایه بعد استفاده میکند و همین طور تا به آخرین لایه رسیده و به خروجی نهایی برسد. در انتها نیز چک میکند که آیا اندیس بزرگ ترین مقدار در خروجی، با اندیس بزرگ ترین مقدار در آرایه ترین ها برابر است یا خیر که اگر برابر باشد به این معنی است که حدس، درست زده شده و به خوبی پیش بینی انجام شده پس به مقدار شمارنده افزوده می شود  "
      ],
      "metadata": {
        "id": "YEJHkXiAIcek"
      }
    },
    {
      "cell_type": "code",
      "source": [
        "## definition of activation function\n",
        "def sigmoid(x):\n",
        "    return 1 / (1 + np.exp(-x))\n",
        "\n",
        "## all the wights set random and biases set to zero\n",
        "w0 = np.random.normal(size=(16,1024))\n",
        "w1 = np.random.normal(size=(16, 16))\n",
        "w2 = np.random.normal(size=(4, 16))\n",
        "b0 = np.zeros((16, 1))\n",
        "b1 = np.zeros((16, 1))\n",
        "b2 = np.zeros((4, 1))\n",
        "\n",
        "## this function returns the index of the biggest element in the array\n",
        "def maxIndex(arr):\n",
        "  max = -math.inf\n",
        "  index = 0\n",
        "  for i in range(len(arr)):\n",
        "    if arr[i] > max:\n",
        "      max = arr[i]\n",
        "      index = i\n",
        "  return index\n",
        "\n",
        "def feedforward(w0, w1, w2, b0, b1, b2):\n",
        "    counter = 0\n",
        "    for i in range (200):\n",
        "     reshapeTrain = trainData[i].reshape(-1,1)\n",
        "     s0 = sigmoid(w0 @ reshapeTrain + b0)\n",
        "     s1 = sigmoid(w1 @ s0 + b1)\n",
        "     ## output\n",
        "     s2 = sigmoid(w2 @ s1 + b2)\n",
        "\n",
        "     if maxIndex(s2) == maxIndex(trainLabel[i]):\n",
        "       counter += 1\n",
        "\n",
        "    print(\"Accuracy is: \", (counter/200) * 100)\n",
        "\n",
        "\n",
        "feedforward(w0, w1, w2, b0, b1, b2)"
      ],
      "metadata": {
        "colab": {
          "base_uri": "https://localhost:8080/"
        },
        "id": "bFtfU9Pm8x1v",
        "outputId": "a7f5bdcb-67b5-4598-f766-420963b59dbd"
      },
      "execution_count": 143,
      "outputs": [
        {
          "output_type": "stream",
          "name": "stdout",
          "text": [
            "Accuracy is:  28.499999999999996\n"
          ]
        }
      ]
    },
    {
      "cell_type": "markdown",
      "source": [
        "**قدم سوم**"
      ],
      "metadata": {
        "id": "AKfdnTBXbsI0"
      }
    },
    {
      "cell_type": "markdown",
      "source": [
        "در این بخش، ابتدا فرضیات مسئله مانند نرخ یادگیری و غیره را مکتوب کردیم. پس از آن آرایه ای از مجموعه ترین و تست درست کردیم که به ازای تمامی داده های موجود درآن ها که در فولدر ترین 20000 و در فولدر تست 4000 است، داده ها به همراه لیبلشان را ذخیره کردیم. در نهایت تابع بک پروپگیشن را صدا میزنیم. زمانی که در این تابع صرف میشود را به کمک تابع دیت تایم به دست می آوریم. به اندازه تعداد ایپاک هایمان که در این جا 10 تاست و هرچه بیشتر شود این مدت زمان نیز افزایش میابد، برای هر مینی بچ، همان کار های مربوط به فیدفوروارد را انجام میدهیم. البته تفاوتی که وجود دارد این است که از تابع سیگموئید و مشتق آن استفاده میکنیم و از روش گرادیان استفاده میکنیم تا هزینه ها را کاهش دهیم؛ در واقع از آخرین لایه شروع کرده و به کمک مشتق جزئی که در درس خواندیم، آنقدر پیش میرویم و گرادیان را آپدیت میکنیم تا به اولین لایه برسیم. و وزن ها را نیز تغییر میدهیم. در نهایت هزینه را محاسبه کرده که باید روند نزولی داشته باشد و همانند قسمت فیدفورواردینگ در گام قبل که توضیح داده شد، دقت را میسنجیم. با استفاده از تابع پلات نیز هزینه را به ازای مقادیر مختلف روی نمودار میتوانیم نشان دهیم. "
      ],
      "metadata": {
        "id": "jt_WCKv-_zKl"
      }
    },
    {
      "cell_type": "code",
      "source": [
        "batchSize = 16\n",
        "learningRate = 0.3\n",
        "epochsNum = 10\n",
        "totalCost = []\n",
        "\n",
        "#create sets of image\n",
        "trainSet = []\n",
        "testSet = []\n",
        "for i in range(4000):\n",
        "  testSet.append((testData[i, :].T.reshape(1024, 1), testLabel[i, :].T.reshape(4, 1)))\n",
        "\n",
        "for i in range(20000):\n",
        "  trainSet.append((trainData[i, :].T.reshape(1024, 1), trainLabel[i, :].T.reshape(4, 1)))\n",
        "batches = [trainSet[j:j+batchSize] for j in range(0, 200, batchSize)]\n",
        "\n",
        "def backpropagation(w0, w1, w2, b0, b1, b2):\n",
        "\n",
        "  startTime = datetime.now() \n",
        "\n",
        "  for i in range(epochsNum):\n",
        "    batches = [trainSet[x: x+batchSize] for x in range(0, 200, batchSize)]\n",
        "\n",
        "    for batch in batches:\n",
        "\n",
        "      w0Grad = np.zeros((16, 1024))\n",
        "      w1Grad = np.zeros((16, 16))\n",
        "      w2Grad = np.zeros((4, 16))\n",
        "      b0Grad = np.zeros((16,1))\n",
        "      b1Grad = np.zeros((16,1))\n",
        "      b2Grad = np.zeros((4,1))\n",
        "\n",
        "      for image, label in batch:\n",
        "        s0 = sigmoid(w0 @ image + b0)\n",
        "        s1 = sigmoid(w1 @ s0 + b1)\n",
        "        s2 = sigmoid(w2 @ s1 + b2)\n",
        "\n",
        "        ## output layer\n",
        "        for j in range(4): \n",
        "          for k in range(16):\n",
        "            w2Grad[j, k] += s1[k,0] * (1 - s2[j, 0]) * (s2[j,0]) * (s2[j, 0] - label[j,0]) * 2\n",
        "        \n",
        "        for j in range(4):\n",
        "          b2Grad[j, 0] += (1 - s2[j, 0]) * (s2[j,0]) * (s2[j, 0] - label[j,0]) * 2\n",
        "\n",
        "        ## second hidden layer\n",
        "        s1Grad = np.zeros((16, 1))\n",
        "        for j in range(16):\n",
        "          for k in range(4):\n",
        "            s1Grad[j,0] += w2[k, j] * (1 - s2[k, 0]) * (s2[k,0]) * (s2[k, 0] - label[k, 0]) *  2 \n",
        "\n",
        "        for j in range(16):\n",
        "                for k in range(16):\n",
        "                    w1Grad[j, k] += s0[k, 0] * (1 - s1[j, 0]) * (s1[j, 0])  * s1Grad[j, 0]\n",
        "\n",
        "      \n",
        "        for j in range(16):\n",
        "            b1Grad[j, 0] += (1 - s1[j, 0]) * (s1[j, 0]) * s1Grad[j, 0] \n",
        "\n",
        "\n",
        "        ## first hidden layer\n",
        "        s0Grad = np.zeros((16,1))\n",
        "        for j in range(16): \n",
        "          for k in range(16): \n",
        "            s0Grad[j, 0] += w1[k, j] * (1 - s1[k, 0]) * (s1[k, 0]) * s1Grad[k, 0]\n",
        "        \n",
        "        for j in range(16):\n",
        "            for k in range(1024):\n",
        "                w0Grad[j, k] += s0Grad[j, 0] * (s0[j, 0]) * (1 - s0[j, 0]) * image[k, 0]  \n",
        "\n",
        "        for j in range(16):\n",
        "                b0Grad[j, 0] += s0Grad[j, 0] * (s0[j, 0]) * (1 - s0[j, 0])\n",
        "\n",
        "\n",
        "      w0 -= learningRate * (w0Grad / batchSize)\n",
        "      w1 -= learningRate * (w1Grad / batchSize)\n",
        "      w2 -= learningRate * (w2Grad / batchSize)\n",
        "\n",
        "      b0 -= learningRate * (b0Grad / batchSize)\n",
        "      b1 -= learningRate * (b1Grad / batchSize)\n",
        "      b2 -= learningRate * (b2Grad / batchSize)\n",
        "\n",
        "  #calculate the cost\n",
        "    cost = 0\n",
        "    counter = 0\n",
        "    for data in trainSet[:200]:\n",
        "      s0 = sigmoid(w0 @ data[0] + b0)\n",
        "      s1 = sigmoid(w1 @ s0 + b1)\n",
        "      s2 = sigmoid(w2 @ s1 + b2)\n",
        "    \n",
        "      if maxIndex(s2) == maxIndex(data[1]):\n",
        "        counter += 1\n",
        "\n",
        "      for j in range(4):\n",
        "        cost += np.power((s2[j, 0] - data[1][j, 0]), 2)\n",
        "\n",
        "    totalCost.append(cost / 200) \n",
        "\n",
        "  stopTime = datetime.now()\n",
        "\n",
        "  start = 0\n",
        "  end = epochsNum\n",
        "  x = np.linspace(start, end, int((end - start)))\n",
        "  y  = totalCost\n",
        "  plt.plot(x, y)\n",
        "  print(\"running time is: \", stopTime - startTime)\n",
        "  print(\"Accuracy:\" ,counter / 200)\n",
        "\n",
        "w0 = np.random.normal(size=(16, 1024))\n",
        "w1 = np.random.normal(size=(16,16))\n",
        "w2 = np.random.normal(size=(4,16))\n",
        "\n",
        "b0 = np.zeros((16, 1))\n",
        "b1 = np.zeros((16, 1))\n",
        "b2 = np.zeros((4, 1))   \n",
        "\n",
        "backpropagation(w0, w1, w2, b0, b1, b2)"
      ],
      "metadata": {
        "colab": {
          "base_uri": "https://localhost:8080/",
          "height": 300
        },
        "id": "WzeszBQs_iyn",
        "outputId": "66f5b8f2-6c80-4991-e234-2ba8c6b9acea"
      },
      "execution_count": 148,
      "outputs": [
        {
          "output_type": "stream",
          "name": "stdout",
          "text": [
            "running time is:  0:01:30.097069\n",
            "Accuracy: 0.375\n"
          ]
        },
        {
          "output_type": "display_data",
          "data": {
            "text/plain": [
              "<Figure size 432x288 with 1 Axes>"
            ],
            "image/png": "[encoded data removed]"
          },
          "metadata": {
            "needs_background": "light"
          }
        }
      ]
    },
    {
      "cell_type": "markdown",
      "source": [
        "**قدم چهارم**"
      ],
      "metadata": {
        "id": "NNz9Rn85naAw"
      }
    },
    {
      "cell_type": "markdown",
      "source": [
        "این مرحله دقیقا مانند گام بک پروپگیشن است با این تفاوت که به جای آن که از فور های تو در تو استفاده کند و زمان اجرای فرآیند طولانی باشد، زمان را کاهش می دهد. همان طور که در نتیجه نیز دیده میشود، تقریبا برای اجرای هر بار تابع بک پروپگیشن یک دقیقه و نیم وقت لازم بود در حالی که در تابع وکتوریزیشن، این زمان به حدود یک ثانیه کاهش می یابد که ایده آل ماست.\n",
        "نحوه کاهش زمان نیز این گونه است که با عمل ترنسپوز، ماتریس ذخیره میکند.\n",
        "بنابراین ما برای به دست آوردن گرایان ها و بایاس ها، از همان فرمول های مرحله قبل استفاده میکنیم و در نهایت با خروجی تابع سیگموئید مربوط به مرحله مد نظر، ترنسپوز میکنیم. "
      ],
      "metadata": {
        "id": "SE0sWApmDsnN"
      }
    },
    {
      "cell_type": "code",
      "source": [
        "batchSize = 16\n",
        "learningRate = 0.3\n",
        "epochsNum = 20\n",
        "\n",
        "accuracySum = []\n",
        "timeSum = []\n",
        "\n",
        "def vectorization(w0, w1, w2, b0, b1, b2):\n",
        "  startTime = datetime.now()\n",
        "  totalCost = []\n",
        "\n",
        "  w0 = np.random.normal(size=(16, 1024))\n",
        "  w1 = np.random.normal(size=(16,16))\n",
        "  w2 = np.random.normal(size=(4,16))\n",
        "\n",
        "  b0 = np.zeros((16, 1))\n",
        "  b1 = np.zeros((16, 1))\n",
        "  b2 = np.zeros((4, 1))\n",
        "\n",
        "  for i in range(epochsNum):\n",
        "    batches = [trainSet[x: x+batchSize] for x in range(0, 200, batchSize)]\n",
        "\n",
        "    for batch in batches:\n",
        "\n",
        "      w0Grad = np.zeros((16, 1024))\n",
        "      w1Grad = np.zeros((16, 16))\n",
        "      w2Grad = np.zeros((4, 16))\n",
        "      b0Grad = np.zeros((16,1))\n",
        "      b1Grad = np.zeros((16,1))\n",
        "      b2Grad = np.zeros((4,1))\n",
        "\n",
        "      for image, label in batch:\n",
        "        s0 = sigmoid(w0 @ image + b0)\n",
        "        s1 = sigmoid(w1 @ s0 + b1)\n",
        "        s2 = sigmoid(w2 @ s1 + b2)\n",
        "\n",
        "        ## output layer\n",
        "        w2Grad += 2 * (s2 - label) * s2 * (1 - s2) @ np.transpose(s1)\n",
        "        b2Grad += 2 * (s2 - label) * s2 * (1 - s2)\n",
        "\n",
        "        ## second hidden layer\n",
        "        s1Grad = np.zeros((16, 1))\n",
        "        s1Grad += np.transpose(w2) @ (2 * (s2 - label) * (s2 * (1 - s2)))                \n",
        "        w1Grad += ( s1 * (1 - s1) *s1Grad) @ np.transpose(s0)\n",
        "        b1Grad += s1Grad * s1 * (1 - s1)\n",
        "\n",
        "        ## first hidden layer\n",
        "        s0Grad = np.zeros((16, 1))\n",
        "        s0Grad +=   np.transpose(w1) @ (s1Grad * s1 * (1 - s1))\n",
        "        w0Grad += (s0Grad * s0 * (1 - s0) ) @ np.transpose(image)\n",
        "        b0Grad += s0Grad * s0 * (1 - s0)\n",
        "\n",
        "      w0 -= learningRate * (w0Grad / batchSize)\n",
        "      w1 -= learningRate * (w1Grad / batchSize)\n",
        "      w2 -= learningRate * (w2Grad / batchSize)\n",
        "\n",
        "      b0 -= learningRate * (b0Grad / batchSize)\n",
        "      b1 -= learningRate * (b1Grad / batchSize)\n",
        "      b2 -= learningRate * (b2Grad / batchSize)\n",
        "\n",
        "    #calculate the cost\n",
        "    cost = 0\n",
        "    counter = 0\n",
        "    for data in trainSet[:200]:\n",
        "      s0 = sigmoid(w0 @ data[0] + b0)\n",
        "      s1 = sigmoid(w1 @ s0 + b1)\n",
        "      s2 = sigmoid(w2 @ s1 + b2)\n",
        "    \n",
        "      if maxIndex(s2) == maxIndex(data[1]):\n",
        "        counter += 1\n",
        "\n",
        "      for j in range(4):\n",
        "        cost += np.power((s2[j, 0] - data[1][j, 0]), 2)\n",
        "\n",
        "    totalCost.append(cost / 200) \n",
        "\n",
        "  stopTime = datetime.now()\n",
        "\n",
        "  start = 0\n",
        "  end = epochsNum\n",
        "  x = np.linspace(start, end, int((end - start)))\n",
        "  y  = totalCost\n",
        "  plt.plot(x, y)\n",
        "  timeSum.append(stopTime - startTime)\n",
        "  accuracySum.append(counter / 200)\n",
        "  print(\"running time is: \", stopTime - startTime)\n",
        "  print(\"Accuracy:\" ,counter / 200)\n",
        "  print()\n",
        "\n",
        "for i in range(10):\n",
        "  print(\"time: \", i+1 )\n",
        "  vectorization(w0, w1, w2, b0, b1, b2)\n",
        "\n",
        "print()\n",
        "print(\"Average runnig time is \" , np.sum(timeSum)/10)\n",
        "print(\"Average Accuracy is \" , np.sum(accuracySum)/10)"
      ],
      "metadata": {
        "colab": {
          "base_uri": "https://localhost:8080/",
          "height": 1000
        },
        "id": "T1pZKOr7O7Hc",
        "outputId": "49232dde-388a-444a-f057-f51c33cfdb20"
      },
      "execution_count": 163,
      "outputs": [
        {
          "output_type": "stream",
          "name": "stdout",
          "text": [
            "time:  1\n",
            "running time is:  0:00:01.544922\n",
            "Accuracy: 0.41\n",
            "\n",
            "time:  2\n",
            "running time is:  0:00:01.508906\n",
            "Accuracy: 0.375\n",
            "\n",
            "time:  3\n",
            "running time is:  0:00:01.499584\n",
            "Accuracy: 0.42\n",
            "\n",
            "time:  4\n",
            "running time is:  0:00:01.439204\n",
            "Accuracy: 0.405\n",
            "\n",
            "time:  5\n",
            "running time is:  0:00:01.515563\n",
            "Accuracy: 0.425\n",
            "\n",
            "time:  6\n",
            "running time is:  0:00:01.519780\n",
            "Accuracy: 0.425\n",
            "\n",
            "time:  7\n",
            "running time is:  0:00:01.547866\n",
            "Accuracy: 0.375\n",
            "\n",
            "time:  8\n",
            "running time is:  0:00:01.520945\n",
            "Accuracy: 0.42\n",
            "\n",
            "time:  9\n",
            "running time is:  0:00:01.497756\n",
            "Accuracy: 0.47\n",
            "\n",
            "time:  10\n",
            "running time is:  0:00:01.469808\n",
            "Accuracy: 0.455\n",
            "\n",
            "\n",
            "Average runnig time is  0:00:01.506433\n",
            "Average Accuracy is  0.418\n"
          ]
        },
        {
          "output_type": "display_data",
          "data": {
            "text/plain": [
              "<Figure size 432x288 with 1 Axes>"
            ],
            "image/png": "[encoded data removed]"
          },
          "metadata": {
            "needs_background": "light"
          }
        }
      ]
    },
    {
      "cell_type": "markdown",
      "source": [
        "**قدم پنجم**"
      ],
      "metadata": {
        "id": "7RHXaxVmnXeb"
      }
    },
    {
      "cell_type": "markdown",
      "source": [
        "این قسمت تماما مانند عملیات ویکتوریزیشنی است که در گام چهار انجام دادیم با این تفاوت که داده های پردازشی برای ترین 8000 و برای تست، 4000 تا بودند."
      ],
      "metadata": {
        "id": "-GxveCZ60eIm"
      }
    },
    {
      "cell_type": "code",
      "source": [
        "# model testing for train data\n",
        "\n",
        "batchSize = 16\n",
        "learningRate = 0.3\n",
        "epochsNum = 40\n",
        "\n",
        "accuracySum = []\n",
        "timeSum = []\n",
        "\n",
        "def vectorization(w0, w1, w2, b0, b1, b2):\n",
        "  startTime = datetime.now()\n",
        "  totalCost = []\n",
        "\n",
        "  w0 = np.random.normal(size=(16, 1024))\n",
        "  w1 = np.random.normal(size=(16,16))\n",
        "  w2 = np.random.normal(size=(4,16))\n",
        "\n",
        "  b0 = np.zeros((16, 1))\n",
        "  b1 = np.zeros((16, 1))\n",
        "  b2 = np.zeros((4, 1))\n",
        "\n",
        "  for i in range(epochsNum):\n",
        "    batches = [trainSet[x: x+batchSize] for x in range(0, 8000, batchSize)]\n",
        "\n",
        "    for batch in batches:\n",
        "\n",
        "      w0Grad = np.zeros((16, 1024))\n",
        "      w1Grad = np.zeros((16, 16))\n",
        "      w2Grad = np.zeros((4, 16))\n",
        "      b0Grad = np.zeros((16,1))\n",
        "      b1Grad = np.zeros((16,1))\n",
        "      b2Grad = np.zeros((4,1))\n",
        "\n",
        "      for image, label in batch:\n",
        "        s0 = sigmoid(w0 @ image + b0)\n",
        "        s1 = sigmoid(w1 @ s0 + b1)\n",
        "        s2 = sigmoid(w2 @ s1 + b2)\n",
        "\n",
        "        ## output layer\n",
        "        w2Grad += 2 * (s2 - label) * s2 * (1 - s2) @ np.transpose(s1)\n",
        "        b2Grad += 2 * (s2 - label) * s2 * (1 - s2)\n",
        "\n",
        "        ## second hidden layer\n",
        "        s1Grad = np.zeros((16, 1))\n",
        "        s1Grad += np.transpose(w2) @ (2 * (s2 - label) * (s2 * (1 - s2)))                \n",
        "        w1Grad += ( s1 * (1 - s1) *s1Grad) @ np.transpose(s0)\n",
        "        b1Grad += s1Grad * s1 * (1 - s1)\n",
        "\n",
        "        ## first hidden layer\n",
        "        s0Grad = np.zeros((16, 1))\n",
        "        s0Grad +=   np.transpose(w1) @ (s1Grad * s1 * (1 - s1))\n",
        "        w0Grad += (s0Grad * s0 * (1 - s0) ) @ np.transpose(image)\n",
        "        b0Grad += s0Grad * s0 * (1 - s0)\n",
        "\n",
        "      w0 -= learningRate * (w0Grad / batchSize)\n",
        "      w1 -= learningRate * (w1Grad / batchSize)\n",
        "      w2 -= learningRate * (w2Grad / batchSize)\n",
        "\n",
        "      b0 -= learningRate * (b0Grad / batchSize)\n",
        "      b1 -= learningRate * (b1Grad / batchSize)\n",
        "      b2 -= learningRate * (b2Grad / batchSize)\n",
        "\n",
        "    #calculate the cost\n",
        "    cost = 0\n",
        "    counter = 0\n",
        "    for data in trainSet[:8000]:\n",
        "      s0 = sigmoid(w0 @ data[0] + b0)\n",
        "      s1 = sigmoid(w1 @ s0 + b1)\n",
        "      s2 = sigmoid(w2 @ s1 + b2)\n",
        "    \n",
        "      if maxIndex(s2) == maxIndex(data[1]):\n",
        "        counter += 1\n",
        "\n",
        "      for j in range(4):\n",
        "        cost += np.power((s2[j, 0] - data[1][j, 0]), 2)\n",
        "\n",
        "    totalCost.append(cost / 8000) \n",
        "\n",
        "  stopTime = datetime.now()\n",
        "\n",
        "  start = 0\n",
        "  end = epochsNum\n",
        "  x = np.linspace(start, end, int((end - start)))\n",
        "  y  = totalCost\n",
        "  plt.plot(x, y)\n",
        "  timeSum.append(stopTime - startTime)\n",
        "  accuracySum.append(counter / 8000)\n",
        "  print(\"running time is: \", stopTime - startTime)\n",
        "  print(\"Accuracy:\" ,counter / 8000)\n",
        "  print()\n",
        "\n",
        "for i in range(10):\n",
        "  print(\"time: \", i+1 )\n",
        "  vectorization(w0, w1, w2, b0, b1, b2)\n",
        "\n",
        "print()\n",
        "print(\"Average runnig time is \" , np.sum(timeSum)/10)\n",
        "print(\"Average Accuracy is \" , np.sum(accuracySum)/10)"
      ],
      "metadata": {
        "colab": {
          "base_uri": "https://localhost:8080/",
          "height": 1000
        },
        "id": "XC3JXGcNvOX_",
        "outputId": "c65b0391-d7cc-4662-e169-fd672942a3ee"
      },
      "execution_count": 164,
      "outputs": [
        {
          "output_type": "stream",
          "name": "stdout",
          "text": [
            "time:  1\n",
            "running time is:  0:02:00.585532\n",
            "Accuracy: 0.57425\n",
            "\n",
            "time:  2\n",
            "running time is:  0:01:55.067174\n",
            "Accuracy: 0.550375\n",
            "\n",
            "time:  3\n",
            "running time is:  0:01:53.111151\n",
            "Accuracy: 0.545375\n",
            "\n",
            "time:  4\n",
            "running time is:  0:01:52.691890\n",
            "Accuracy: 0.53375\n",
            "\n",
            "time:  5\n",
            "running time is:  0:01:53.309015\n",
            "Accuracy: 0.54675\n",
            "\n",
            "time:  6\n",
            "running time is:  0:01:52.863779\n",
            "Accuracy: 0.534\n",
            "\n",
            "time:  7\n",
            "running time is:  0:01:52.914902\n",
            "Accuracy: 0.5545\n",
            "\n",
            "time:  8\n",
            "running time is:  0:01:53.157296\n",
            "Accuracy: 0.539625\n",
            "\n",
            "time:  9\n",
            "running time is:  0:01:53.043586\n",
            "Accuracy: 0.53225\n",
            "\n",
            "time:  10\n",
            "running time is:  0:01:53.041740\n",
            "Accuracy: 0.54375\n",
            "\n",
            "\n",
            "Average runnig time is  0:01:53.978606\n",
            "Average Accuracy is  0.5454625\n"
          ]
        },
        {
          "output_type": "display_data",
          "data": {
            "text/plain": [
              "<Figure size 432x288 with 1 Axes>"
            ],
            "image/png": "[encoded data removed]"
          },
          "metadata": {
            "needs_background": "light"
          }
        }
      ]
    },
    {
      "cell_type": "code",
      "source": [
        "# model testing for test data\n",
        "\n",
        "batchSize = 16\n",
        "learningRate = 0.3\n",
        "epochsNum = 40\n",
        "\n",
        "accuracySum = []\n",
        "timeSum = []\n",
        "\n",
        "def vectorization(w0, w1, w2, b0, b1, b2):\n",
        "  startTime = datetime.now()\n",
        "  totalCost = []\n",
        "\n",
        "  w0 = np.random.normal(size=(16, 1024))\n",
        "  w1 = np.random.normal(size=(16,16))\n",
        "  w2 = np.random.normal(size=(4,16))\n",
        "\n",
        "  b0 = np.zeros((16, 1))\n",
        "  b1 = np.zeros((16, 1))\n",
        "  b2 = np.zeros((4, 1))\n",
        "\n",
        "  for i in range(epochsNum):\n",
        "    batches = [trainSet[x: x+batchSize] for x in range(0, 4000, batchSize)]\n",
        "\n",
        "    for batch in batches:\n",
        "\n",
        "      w0Grad = np.zeros((16, 1024))\n",
        "      w1Grad = np.zeros((16, 16))\n",
        "      w2Grad = np.zeros((4, 16))\n",
        "      b0Grad = np.zeros((16,1))\n",
        "      b1Grad = np.zeros((16,1))\n",
        "      b2Grad = np.zeros((4,1))\n",
        "\n",
        "      for image, label in batch:\n",
        "        s0 = sigmoid(w0 @ image + b0)\n",
        "        s1 = sigmoid(w1 @ s0 + b1)\n",
        "        s2 = sigmoid(w2 @ s1 + b2)\n",
        "\n",
        "        ## output layer\n",
        "        w2Grad += 2 * (s2 - label) * s2 * (1 - s2) @ np.transpose(s1)\n",
        "        b2Grad += 2 * (s2 - label) * s2 * (1 - s2)\n",
        "\n",
        "        ## second hidden layer\n",
        "        s1Grad = np.zeros((16, 1))\n",
        "        s1Grad += np.transpose(w2) @ (2 * (s2 - label) * (s2 * (1 - s2)))                \n",
        "        w1Grad += ( s1 * (1 - s1) *s1Grad) @ np.transpose(s0)\n",
        "        b1Grad += s1Grad * s1 * (1 - s1)\n",
        "\n",
        "        ## first hidden layer\n",
        "        s0Grad = np.zeros((16, 1))\n",
        "        s0Grad +=   np.transpose(w1) @ (s1Grad * s1 * (1 - s1))\n",
        "        w0Grad += (s0Grad * s0 * (1 - s0) ) @ np.transpose(image)\n",
        "        b0Grad += s0Grad * s0 * (1 - s0)\n",
        "\n",
        "      w0 -= learningRate * (w0Grad / batchSize)\n",
        "      w1 -= learningRate * (w1Grad / batchSize)\n",
        "      w2 -= learningRate * (w2Grad / batchSize)\n",
        "\n",
        "      b0 -= learningRate * (b0Grad / batchSize)\n",
        "      b1 -= learningRate * (b1Grad / batchSize)\n",
        "      b2 -= learningRate * (b2Grad / batchSize)\n",
        "\n",
        "    #calculate the cost\n",
        "    cost = 0\n",
        "    counter = 0\n",
        "    for data in trainSet[:4000]:\n",
        "      s0 = sigmoid(w0 @ data[0] + b0)\n",
        "      s1 = sigmoid(w1 @ s0 + b1)\n",
        "      s2 = sigmoid(w2 @ s1 + b2)\n",
        "    \n",
        "      if maxIndex(s2) == maxIndex(data[1]):\n",
        "        counter += 1\n",
        "\n",
        "      for j in range(4):\n",
        "        cost += np.power((s2[j, 0] - data[1][j, 0]), 2)\n",
        "\n",
        "    totalCost.append(cost / 4000) \n",
        "\n",
        "  stopTime = datetime.now()\n",
        "\n",
        "  start = 0\n",
        "  end = epochsNum\n",
        "  x = np.linspace(start, end, int((end - start)))\n",
        "  y  = totalCost\n",
        "  plt.plot(x, y)\n",
        "  timeSum.append(stopTime - startTime)\n",
        "  accuracySum.append(counter / 4000)\n",
        "  print(\"running time is: \", stopTime - startTime)\n",
        "  print(\"Accuracy:\" ,counter / 4000)\n",
        "  print()\n",
        "\n",
        "for i in range(10):\n",
        "  print(\"time: \", i+1 )\n",
        "  vectorization(w0, w1, w2, b0, b1, b2)\n",
        "\n",
        "print()\n",
        "print(\"Average runnig time is \" , np.sum(timeSum)/10)\n",
        "print(\"Average Accuracy is \" , np.sum(accuracySum)/10)"
      ],
      "metadata": {
        "colab": {
          "base_uri": "https://localhost:8080/",
          "height": 1000
        },
        "id": "75J1WXXp2H9U",
        "outputId": "61495e34-969f-4392-ecb7-df17bcfe6870"
      },
      "execution_count": 165,
      "outputs": [
        {
          "output_type": "stream",
          "name": "stdout",
          "text": [
            "time:  1\n",
            "running time is:  0:00:56.462468\n",
            "Accuracy: 0.50875\n",
            "\n",
            "time:  2\n",
            "running time is:  0:00:56.655401\n",
            "Accuracy: 0.504\n",
            "\n",
            "time:  3\n",
            "running time is:  0:00:56.663458\n",
            "Accuracy: 0.52325\n",
            "\n",
            "time:  4\n",
            "running time is:  0:00:57.526749\n",
            "Accuracy: 0.5175\n",
            "\n",
            "time:  5\n",
            "running time is:  0:00:56.544665\n",
            "Accuracy: 0.525\n",
            "\n",
            "time:  6\n",
            "running time is:  0:00:56.585538\n",
            "Accuracy: 0.53125\n",
            "\n",
            "time:  7\n",
            "running time is:  0:00:56.782338\n",
            "Accuracy: 0.515\n",
            "\n",
            "time:  8\n",
            "running time is:  0:00:56.512333\n",
            "Accuracy: 0.5195\n",
            "\n",
            "time:  9\n",
            "running time is:  0:00:56.436521\n",
            "Accuracy: 0.52375\n",
            "\n",
            "time:  10\n",
            "running time is:  0:00:56.445813\n",
            "Accuracy: 0.54\n",
            "\n",
            "\n",
            "Average runnig time is  0:00:56.661528\n",
            "Average Accuracy is  0.5207999999999999\n"
          ]
        },
        {
          "output_type": "display_data",
          "data": {
            "text/plain": [
              "<Figure size 432x288 with 1 Axes>"
            ],
            "image/png": "[encoded data removed]"
          },
          "metadata": {
            "needs_background": "light"
          }
        }
      ]
    }
  ]
}